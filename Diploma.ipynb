{
 "cells": [
  {
   "cell_type": "code",
   "execution_count": 2,
   "metadata": {
    "tags": []
   },
   "outputs": [],
   "source": [
    "import numpy as np\n",
    "import pandas as pd"
   ]
  },
  {
   "cell_type": "code",
   "execution_count": 3,
   "metadata": {},
   "outputs": [],
   "source": [
    "with open(\"data\\spam.csv\") as f:\n",
    "    lines = f.readlines()\n",
    "X, Y = [], []\n",
    "for line in lines:\n",
    "    f = 1 if line[0] == 'h' else 0\n",
    "    Y.append(f)\n",
    "    X.append(''.join(filter(lambda x: (x == ' ' or x.isalpha()), line[4 + f:-4])))"
   ]
  },
  {
   "cell_type": "code",
   "execution_count": 4,
   "metadata": {},
   "outputs": [],
   "source": [
    "from sklearn.feature_extraction.text import CountVectorizer\n",
    "from sklearn.feature_extraction.text import TfidfTransformer"
   ]
  },
  {
   "cell_type": "code",
   "execution_count": 5,
   "metadata": {},
   "outputs": [
    {
     "name": "stdout",
     "output_type": "stream",
     "text": [
      "(379, 17)\n",
      "(379, 17)\n",
      "(379, 17)\n",
      "  (0, 11)\t0.7071067811865475\n",
      "  (0, 10)\t0.7071067811865475\n"
     ]
    }
   ],
   "source": [
    "X_train = CountVectorizer().fit_transform(X)\n",
    "X_train_tf = TfidfTransformer(use_idf=False).fit(X_train).transform(X_train)\n",
    "X_train_tfidf = TfidfTransformer().fit_transform(X_train)\n",
    "print(X_train.shape)\n",
    "print(X_train_tf.shape)\n",
    "print(X_train_tfidf.shape)\n",
    "print(X_train_tfidf[1:2])"
   ]
  },
  {
   "cell_type": "code",
   "execution_count": 6,
   "metadata": {},
   "outputs": [],
   "source": [
    "import time\n",
    "import yaml\n",
    "from sklearn.model_selection import train_test_split\n",
    "import matplotlib.pyplot as plt\n",
    "from src.functions import calc, stats\n",
    "\n",
    "with open('config.yaml') as f:\n",
    "    config = yaml.load(f, Loader=yaml.FullLoader)\n",
    "    \n",
    "X_train, X_test, y_train, y_test = train_test_split(\n",
    "    X_train_tfidf,\n",
    "    Y,\n",
    "    test_size=config['test_size'],\n",
    "    random_state=config['train_test_split_random_state']\n",
    ")"
   ]
  },
  {
   "cell_type": "markdown",
   "metadata": {},
   "source": [
    "## KNeighborsClassifier"
   ]
  },
  {
   "cell_type": "code",
   "execution_count": 7,
   "metadata": {},
   "outputs": [],
   "source": [
    "from sklearn.neighbors import KNeighborsClassifier\n",
    "\n",
    "segment = range(2, 20)\n",
    "best_k, best_score, accuracy = calc(\n",
    "    segment,\n",
    "    lambda k: KNeighborsClassifier(n_neighbors=k),\n",
    "    X_train,\n",
    "    y_train,\n",
    "    config\n",
    ")"
   ]
  },
  {
   "cell_type": "code",
   "execution_count": 8,
   "metadata": {},
   "outputs": [
    {
     "name": "stdout",
     "output_type": "stream",
     "text": [
      "Best k =  2\n",
      "Best score =  1.0\n",
      "False positive error =  0.0\n",
      "True negative error =  0.0\n",
      "False negative =  1.0\n",
      "True positive =  1.0\n",
      "TIME =  0:00:00\n"
     ]
    },
    {
     "data": {
      "image/png": "[encoded data removed]",
      "text/plain": [
       "<Figure size 432x288 with 1 Axes>"
      ]
     },
     "metadata": {
      "needs_background": "light"
     },
     "output_type": "display_data"
    }
   ],
   "source": [
    "print (\"Best k = \", best_k)\n",
    "print (\"Best score = \", best_score)\n",
    "stats(\n",
    "    y_test,\n",
    "    KNeighborsClassifier(n_neighbors=best_k)\n",
    "    .fit(X_train, y_train)\n",
    "    .predict(X_test)\n",
    ")\n",
    "plt.plot(segment, accuracy)\n",
    "plt.show()"
   ]
  },
  {
   "cell_type": "markdown",
   "metadata": {},
   "source": [
    "## MultinomialNB"
   ]
  },
  {
   "cell_type": "code",
   "execution_count": 9,
   "metadata": {
    "tags": []
   },
   "outputs": [],
   "source": [
    "from sklearn.naive_bayes import MultinomialNB\n",
    "\n",
    "\n",
    "segment = [1e-6, 1e-5, 1e-4, 1e-3, 1e-2, 1e-1, 1]\n",
    "best_k, best_score, accuracy = calc(\n",
    "    segment,\n",
    "    lambda k: MultinomialNB(alpha=k, class_prior=None, fit_prior=True),\n",
    "    X_train,\n",
    "    y_train,\n",
    "    config\n",
    ")"
   ]
  },
  {
   "cell_type": "code",
   "execution_count": 10,
   "metadata": {},
   "outputs": [
    {
     "name": "stdout",
     "output_type": "stream",
     "text": [
      "Best k =  1e-06\n",
      "Best score =  1.0\n",
      "False positive error =  0.0\n",
      "True negative error =  0.0\n",
      "False negative =  1.0\n",
      "True positive =  1.0\n",
      "TIME =  0:00:00.001002\n"
     ]
    },
    {
     "data": {
      "image/png": "[encoded data removed]",
      "text/plain": [
       "<Figure size 432x288 with 1 Axes>"
      ]
     },
     "metadata": {
      "needs_background": "light"
     },
     "output_type": "display_data"
    }
   ],
   "source": [
    "print (\"Best k = \", best_k)\n",
    "print (\"Best score = \", best_score)\n",
    "stats(\n",
    "    y_test,\n",
    "    MultinomialNB(alpha=best_k, class_prior=None, fit_prior=True)\n",
    "    .fit(X_train, y_train)\n",
    "    .predict(X_test)\n",
    ")\n",
    "plt.plot(segment, accuracy)\n",
    "plt.show()"
   ]
  },
  {
   "cell_type": "markdown",
   "metadata": {},
   "source": [
    "## LogisticRegression \n",
    "(you need to check for penalty, because only 'none' or 'l2' available. So the first estimation could be l2 as well)"
   ]
  },
  {
   "cell_type": "code",
   "execution_count": 11,
   "metadata": {},
   "outputs": [],
   "source": [
    "from sklearn.linear_model import LogisticRegression\n",
    "\n",
    "\n",
    "segment = [0.001, 0.001, 0.01, 0.1, 1, 5, 10]\n",
    "best_k_l1, best_score_l1, accuracy_l1 = calc(\n",
    "    segment,\n",
    "    lambda k: LogisticRegression(C=k),\n",
    "    X_train,\n",
    "    y_train,\n",
    "    config\n",
    ")\n",
    "\n",
    "best_k_l2, best_score_l2, accuracy_l2 = calc(\n",
    "    segment,\n",
    "    lambda k: LogisticRegression(C=k, penalty=\"l2\"),\n",
    "    X_train,\n",
    "    y_train,\n",
    "    config\n",
    ")"
   ]
  },
  {
   "cell_type": "code",
   "execution_count": 12,
   "metadata": {},
   "outputs": [
    {
     "name": "stdout",
     "output_type": "stream",
     "text": [
      "Best C =  1\n",
      "Best score (l1 penalty) =  1.0\n",
      "Best C =  1\n",
      "Best score (l2 penalty) =  1.0\n",
      "False positive error =  0.0\n",
      "True negative error =  0.0\n",
      "False negative =  1.0\n",
      "True positive =  1.0\n",
      "TIME =  0:00:00.000999\n"
     ]
    },
    {
     "data": {
      "image/png": "[encoded data removed]",
      "text/plain": [
       "<Figure size 432x288 with 1 Axes>"
      ]
     },
     "metadata": {
      "needs_background": "light"
     },
     "output_type": "display_data"
    }
   ],
   "source": [
    "print (\"Best C = \", best_k_l1)\n",
    "print (\"Best score (l1 penalty) = \", best_score_l1)\n",
    "print (\"Best C = \", best_k_l2)\n",
    "print (\"Best score (l2 penalty) = \", best_score_l2)\n",
    "stats(\n",
    "    y_test,\n",
    "    LogisticRegression(C=best_k_l1)\n",
    "    .fit(X_train, y_train)\n",
    "    .predict(X_test)\n",
    ")\n",
    "plt.plot(segment, accuracy_l1)\n",
    "plt.show()"
   ]
  },
  {
   "cell_type": "markdown",
   "metadata": {},
   "source": [
    "## DecisionTreeClassifier"
   ]
  },
  {
   "cell_type": "code",
   "execution_count": 13,
   "metadata": {},
   "outputs": [],
   "source": [
    "from sklearn.tree import DecisionTreeClassifier\n",
    "\n",
    "segment = np.arange(2, 50, 5)\n",
    "best_k, best_score, accuracy = calc(\n",
    "    segment,\n",
    "    lambda k: DecisionTreeClassifier(max_depth=k),\n",
    "    X_train,\n",
    "    y_train,\n",
    "    config\n",
    ")"
   ]
  },
  {
   "cell_type": "code",
   "execution_count": 14,
   "metadata": {},
   "outputs": [
    {
     "name": "stdout",
     "output_type": "stream",
     "text": [
      "Best C =  2\n",
      "Best score (best splitter) =  1.0\n",
      "False positive error =  0.0\n",
      "True negative error =  0.0\n",
      "False negative =  1.0\n",
      "True positive =  1.0\n",
      "TIME =  0:00:00\n"
     ]
    },
    {
     "data": {
      "image/png": "[encoded data removed]",
      "text/plain": [
       "<Figure size 432x288 with 1 Axes>"
      ]
     },
     "metadata": {
      "needs_background": "light"
     },
     "output_type": "display_data"
    }
   ],
   "source": [
    "print (\"Best C = \", best_k)\n",
    "print (\"Best score (best splitter) = \", best_score)\n",
    "stats(\n",
    "    y_test,\n",
    "    DecisionTreeClassifier(max_depth=best_k)\n",
    "    .fit(X_train, y_train)\n",
    "    .predict(X_test)\n",
    ")\n",
    "plt.plot(segment, accuracy)\n",
    "plt.show()"
   ]
  },
  {
   "cell_type": "markdown",
   "metadata": {},
   "source": [
    "## SVC"
   ]
  },
  {
   "cell_type": "code",
   "execution_count": 15,
   "metadata": {
    "tags": []
   },
   "outputs": [],
   "source": [
    "from sklearn.svm import SVC\n",
    "\n",
    "\n",
    "segment = [\"linear\", \"poly\", \"rbf\", \"sigmoid\"]\n",
    "best_k, best_score, accuracy = calc(\n",
    "    segment,\n",
    "    lambda k: SVC(kernel=k),\n",
    "    X_train,\n",
    "    y_train,\n",
    "    config\n",
    ")"
   ]
  },
  {
   "cell_type": "code",
   "execution_count": 16,
   "metadata": {},
   "outputs": [
    {
     "data": {
      "image/png": "[encoded data removed]",
      "text/plain": [
       "<Figure size 432x288 with 1 Axes>"
      ]
     },
     "metadata": {
      "needs_background": "light"
     },
     "output_type": "display_data"
    },
    {
     "name": "stdout",
     "output_type": "stream",
     "text": [
      "Best kernel =  linear\n",
      "Best score =  1.0\n",
      "False positive error =  0.0\n",
      "True negative error =  0.0\n",
      "False negative =  1.0\n",
      "True positive =  1.0\n",
      "TIME =  0:00:00\n"
     ]
    }
   ],
   "source": [
    "accuracy.insert(0, 0)    \n",
    "plt.plot(np.arange(len(segment) + 1), accuracy, 'ro')\n",
    "plt.show()\n",
    "print (\"Best kernel = \", best_k)\n",
    "print (\"Best score = \", best_score)\n",
    "stats(\n",
    "    y_test,\n",
    "    SVC(kernel=best_k)\n",
    "    .fit(X_train, y_train)\n",
    "    .predict(X_test)\n",
    ")"
   ]
  }
 ],
 "metadata": {
  "kernelspec": {
   "display_name": "Python 3 (ipykernel)",
   "language": "python",
   "name": "python3"
  },
  "language_info": {
   "codemirror_mode": {
    "name": "ipython",
    "version": 3
   },
   "file_extension": ".py",
   "mimetype": "text/x-python",
   "name": "python",
   "nbconvert_exporter": "python",
   "pygments_lexer": "ipython3",
   "version": "3.7.6"
  }
 },
 "nbformat": 4,
 "nbformat_minor": 4
}
